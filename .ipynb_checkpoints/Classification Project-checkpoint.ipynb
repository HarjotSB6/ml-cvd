{
 "cells": [
  {
   "cell_type": "markdown",
   "id": "703e4557",
   "metadata": {},
   "source": [
    "# End To End Classification Project"
   ]
  },
  {
   "cell_type": "markdown",
   "id": "ef1a4c06",
   "metadata": {},
   "source": [
    "# Predicting Heart Disease using ML\n",
    "\n",
    "Approaches-\n",
    "1. Problem Defination\n",
    "2. Data\n",
    "3. Evalutation\n",
    "4. Features\n",
    "5. Modelling\n",
    "6. Experimentation"
   ]
  },
  {
   "cell_type": "markdown",
   "id": "4b246c87",
   "metadata": {},
   "source": [
    "## 1. Problem Defination\n",
    "> In the given clinical information, can we predict whether or not they have heart disease?\n",
    "\n",
    "## 2. Data\n",
    "> Dataset found on Kaggle :https://www.kaggle.com/ronitf/heart-disease-uci\n",
    "\n",
    "## 3. Evaluation\n",
    "> If we reach 95% accuracy at predicting whether or not a patient has heart disease during the proof of concept, we''ll peruse in this project.\n",
    "\n",
    "## 4. Features\n",
    "> **Data Dictionary**\n",
    "\n",
    "* age\n",
    "* sex\n",
    "* chest pain type (4 values)\n",
    "* resting blood pressure\n",
    "* serum cholestoral in mg/dl\n",
    "* fasting blood sugar > 120 mg/dl\n",
    "* resting electrocardiographic results (values 0,1,2)\n",
    "* maximum heart rate achieved\n",
    "* exercise induced angina\n",
    "* oldpeak = ST depression induced by exercise relative to rest\n",
    "* the slope of the peak exercise ST segment\n",
    "* number of major vessels (0-3) colored by flourosopy\n",
    "* thal: 3 = normal; 6 = fixed defect; 7 = reversable defect"
   ]
  },
  {
   "cell_type": "markdown",
   "id": "3501cccb",
   "metadata": {},
   "source": []
  },
  {
   "cell_type": "raw",
   "id": "5bfc2cfa",
   "metadata": {},
   "source": []
  },
  {
   "cell_type": "code",
   "execution_count": null,
   "id": "25ffb6a1",
   "metadata": {},
   "outputs": [],
   "source": []
  }
 ],
 "metadata": {
  "kernelspec": {
   "display_name": "Python 3 (ipykernel)",
   "language": "python",
   "name": "python3"
  },
  "language_info": {
   "codemirror_mode": {
    "name": "ipython",
    "version": 3
   },
   "file_extension": ".py",
   "mimetype": "text/x-python",
   "name": "python",
   "nbconvert_exporter": "python",
   "pygments_lexer": "ipython3",
   "version": "3.9.7"
  }
 },
 "nbformat": 4,
 "nbformat_minor": 5
}
